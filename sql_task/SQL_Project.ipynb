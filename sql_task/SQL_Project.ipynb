{
 "cells": [
  {
   "cell_type": "code",
   "execution_count": 0,
   "metadata": {
    "application/vnd.databricks.v1+cell": {
     "cellMetadata": {
      "byteLimit": 2048000,
      "rowLimit": 10000
     },
     "inputWidgets": {},
     "nuid": "8fa9dfa2-1a59-46a7-aea6-afa1622801e1",
     "showTitle": false,
     "title": ""
    }
   },
   "outputs": [
    {
     "output_type": "display_data",
     "data": {
      "text/html": [
       "<style scoped>\n",
       "  .table-result-container {\n",
       "    max-height: 300px;\n",
       "    overflow: auto;\n",
       "  }\n",
       "  table, th, td {\n",
       "    border: 1px solid black;\n",
       "    border-collapse: collapse;\n",
       "  }\n",
       "  th, td {\n",
       "    padding: 5px;\n",
       "  }\n",
       "  th {\n",
       "    text-align: left;\n",
       "  }\n",
       "</style><div class='table-result-container'><table class='table-result'><thead style='background-color: white'><tr><th>col_name</th><th>data_type</th><th>comment</th></tr></thead><tbody><tr><td>id</td><td>bigint</td><td>null</td></tr><tr><td>insurer_id</td><td>bigint</td><td>null</td></tr><tr><td>relationship</td><td>string</td><td>null</td></tr></tbody></table></div>"
      ]
     },
     "metadata": {
      "application/vnd.databricks.v1+output": {
       "addedWidgets": {},
       "aggData": [],
       "aggError": "",
       "aggOverflow": false,
       "aggSchema": [],
       "aggSeriesLimitReached": false,
       "aggType": "",
       "arguments": {},
       "columnCustomDisplayInfos": {},
       "data": [
        [
         "id",
         "bigint",
         null
        ],
        [
         "insurer_id",
         "bigint",
         null
        ],
        [
         "relationship",
         "string",
         null
        ]
       ],
       "datasetInfos": [],
       "dbfsResultPath": null,
       "isJsonSchema": true,
       "metadata": {
        "isDbfsCommandResult": false
       },
       "overflow": false,
       "plotOptions": {
        "customPlotOptions": {},
        "displayType": "table",
        "pivotAggregation": null,
        "pivotColumns": null,
        "xColumns": null,
        "yColumns": null
       },
       "removedWidgets": [],
       "schema": [
        {
         "metadata": "{\"comment\":\"name of the column\"}",
         "name": "col_name",
         "type": "\"string\""
        },
        {
         "metadata": "{\"comment\":\"data type of the column\"}",
         "name": "data_type",
         "type": "\"string\""
        },
        {
         "metadata": "{\"comment\":\"comment of the column\"}",
         "name": "comment",
         "type": "\"string\""
        }
       ],
       "type": "table"
      }
     },
     "output_type": "display_data"
    }
   ],
   "source": [
    "%sql\n",
    "select * from  details;"
   ]
  },
  {
   "cell_type": "code",
   "execution_count": 0,
   "metadata": {
    "application/vnd.databricks.v1+cell": {
     "cellMetadata": {
      "byteLimit": 2048000,
      "rowLimit": 10000
     },
     "inputWidgets": {},
     "nuid": "07813558-39dd-4a5d-9be1-2b3d76068fb9",
     "showTitle": false,
     "title": ""
    }
   },
   "outputs": [
    {
     "output_type": "display_data",
     "data": {
      "text/html": [
       "<style scoped>\n",
       "  .table-result-container {\n",
       "    max-height: 300px;\n",
       "    overflow: auto;\n",
       "  }\n",
       "  table, th, td {\n",
       "    border: 1px solid black;\n",
       "    border-collapse: collapse;\n",
       "  }\n",
       "  th, td {\n",
       "    padding: 5px;\n",
       "  }\n",
       "  th {\n",
       "    text-align: left;\n",
       "  }\n",
       "</style><div class='table-result-container'><table class='table-result'><thead style='background-color: white'><tr><th>num_affected_rows</th><th>num_inserted_rows</th></tr></thead><tbody></tbody></table></div>"
      ]
     },
     "metadata": {
      "application/vnd.databricks.v1+output": {
       "addedWidgets": {},
       "aggData": [],
       "aggError": "",
       "aggOverflow": false,
       "aggSchema": [],
       "aggSeriesLimitReached": false,
       "aggType": "",
       "arguments": {},
       "columnCustomDisplayInfos": {},
       "data": [],
       "datasetInfos": [],
       "dbfsResultPath": null,
       "isJsonSchema": true,
       "metadata": {
        "isDbfsCommandResult": false
       },
       "overflow": false,
       "plotOptions": {
        "customPlotOptions": {},
        "displayType": "table",
        "pivotAggregation": null,
        "pivotColumns": null,
        "xColumns": null,
        "yColumns": null
       },
       "removedWidgets": [],
       "schema": [
        {
         "metadata": "{}",
         "name": "num_affected_rows",
         "type": "\"long\""
        },
        {
         "metadata": "{}",
         "name": "num_inserted_rows",
         "type": "\"long\""
        }
       ],
       "type": "table"
      }
     },
     "output_type": "display_data"
    }
   ],
   "source": [
    "%sql\n",
    "create table temp as  (select h.id as source_id,\n",
    "h.insurer_id as subscriber_id,\n",
    "d.first_name,\n",
    "d.middle_name,\n",
    "d.last_name,\n",
    "d.email,\n",
    "h.relationship,\n",
    "d.ssn,\n",
    "d.gender,\n",
    "d.religion,\n",
    "d.marital_status,\n",
    "d.date_of_birth,\n",
    "d.deceased_date,\n",
    "d.spoken_language_1,\n",
    "d.spoken_language_2\n",
    ",d.company,\n",
    "d.job_role,\n",
    "d.job_hiredate,\n",
    "c.phone,\n",
    "c.usage_type,\n",
    "a.city,\n",
    "a.issued_date,\n",
    "a.address_line_1,\n",
    "a.address_line_2,\n",
    "a.state,\n",
    "a.address_type,\n",
    "a.zipcode\n",
    "from \n",
    "header h \n",
    "left join details d on h.id=d.id \n",
    "left join contactinfo c on h.id=c.id \n",
    "left join address a on h.id=a.id)\n"
   ]
  },
  {
   "cell_type": "code",
   "execution_count": 0,
   "metadata": {
    "application/vnd.databricks.v1+cell": {
     "cellMetadata": {
      "byteLimit": 2048000,
      "rowLimit": 10000
     },
     "inputWidgets": {},
     "nuid": "8ff50388-d704-47b0-bf88-17e8d172f427",
     "showTitle": false,
     "title": ""
    }
   },
   "outputs": [
    {
     "output_type": "display_data",
     "data": {
      "text/html": [
       "<style scoped>\n",
       "  .table-result-container {\n",
       "    max-height: 300px;\n",
       "    overflow: auto;\n",
       "  }\n",
       "  table, th, td {\n",
       "    border: 1px solid black;\n",
       "    border-collapse: collapse;\n",
       "  }\n",
       "  th, td {\n",
       "    padding: 5px;\n",
       "  }\n",
       "  th {\n",
       "    text-align: left;\n",
       "  }\n",
       "</style><div class='table-result-container'><table class='table-result'><thead style='background-color: white'><tr><th>source_id</th><th>subscriber_id</th><th>first_name</th><th>middle_name</th><th>last_name</th><th>email</th><th>relationship</th><th>ssn</th><th>gender</th><th>religion</th><th>marital_status</th><th>date_of_birth</th><th>deceased_date</th><th>spoken_language_1</th><th>spoken_language_2</th><th>company</th><th>job_role</th><th>job_hiredate</th><th>phone</th><th>usage_type</th><th>city</th><th>issued_date</th><th>address_line_1</th><th>address_line_2</th><th>state</th><th>address_type</th><th>zipcode</th></tr></thead><tbody><tr><td>70001</td><td>40184</td><td>Hettie</td><td>null</td><td>Keenlayside</td><td>jkeenlayside0@disqus.com</td><td>child</td><td>168-92-1075</td><td>F</td><td>Buddhism</td><td>Widowed</td><td>8/5/1939</td><td>null</td><td>West Frisian</td><td>Swahili</td><td>Gabcube</td><td>Clinical Specialist</td><td>1/29/1964</td><td>(455) 3130004</td><td>Work</td><td>New Kyle</td><td>5/26/16</td><td>4307 Ashley Village Suite 758</td><td>null</td><td>North Dakota</td><td>Mail</td><td>87337</td></tr><tr><td>70001</td><td>40184</td><td>Hettie</td><td>null</td><td>Keenlayside</td><td>jkeenlayside0@disqus.com</td><td>child</td><td>168-92-1075</td><td>F</td><td>Buddhism</td><td>Widowed</td><td>8/5/1939</td><td>null</td><td>West Frisian</td><td>Swahili</td><td>Gabcube</td><td>Clinical Specialist</td><td>1/29/1964</td><td>(455) 3130004</td><td>Work</td><td>Griffinhaven</td><td>6/10/07</td><td>046 Cox Lights</td><td>Suite 600</td><td>South Carolina</td><td>Residental</td><td>71709</td></tr><tr><td>70002</td><td>40092</td><td>Reade</td><td>null</td><td>Laverenz</td><td>dlaverenz1@senate.gov</td><td>friend</td><td>782-24-9907</td><td>M</td><td>Christianity</td><td>Widowed</td><td>5/14/1941</td><td>null</td><td>Swati</td><td>Danish</td><td>Skibox</td><td>Staff Scientist</td><td>5/18/1958</td><td>(994) 4561640</td><td>Work</td><td>North Heather</td><td>12/1/22</td><td>737 Banks Row</td><td>Apt. 505</td><td>Arkansas</td><td>Residental</td><td>2341</td></tr><tr><td>70002</td><td>40092</td><td>Reade</td><td>null</td><td>Laverenz</td><td>dlaverenz1@senate.gov</td><td>friend</td><td>782-24-9907</td><td>M</td><td>Christianity</td><td>Widowed</td><td>5/14/1941</td><td>null</td><td>Swati</td><td>Danish</td><td>Skibox</td><td>Staff Scientist</td><td>5/18/1958</td><td>(994) 4561640</td><td>Work</td><td>South Natalie</td><td>9/15/19</td><td>183 Dalton Viaduct</td><td>Suite 844</td><td>Oregon</td><td>Mail</td><td>77714</td></tr><tr><td>70003</td><td>40233</td><td>Minnnie</td><td>null</td><td>Baack</td><td>dbaack2@sina.com.cn</td><td>spouse</td><td>726-01-1271</td><td>F</td><td>Buddhism</td><td>Married</td><td>11/20/1982</td><td>null</td><td>Swati</td><td>null</td><td>Dabjam</td><td>Paralegal</td><td>6/10/2011</td><td>(771) 6498755</td><td>Work</td><td>Churchbury</td><td>3/9/07</td><td>807 Jesus Mills Suite 598</td><td>Suite 735</td><td>Texas</td><td>Mail</td><td>97223</td></tr></tbody></table></div>"
      ]
     },
     "metadata": {
      "application/vnd.databricks.v1+output": {
       "addedWidgets": {},
       "aggData": [],
       "aggError": "",
       "aggOverflow": false,
       "aggSchema": [],
       "aggSeriesLimitReached": false,
       "aggType": "",
       "arguments": {},
       "columnCustomDisplayInfos": {},
       "data": [
        [
         70001,
         40184,
         "Hettie",
         null,
         "Keenlayside",
         "jkeenlayside0@disqus.com",
         "child",
         "168-92-1075",
         "F",
         "Buddhism",
         "Widowed",
         "8/5/1939",
         null,
         "West Frisian",
         "Swahili",
         "Gabcube",
         "Clinical Specialist",
         "1/29/1964",
         "(455) 3130004",
         "Work",
         "New Kyle",
         "5/26/16",
         "4307 Ashley Village Suite 758",
         null,
         "North Dakota",
         "Mail",
         "87337"
        ],
        [
         70001,
         40184,
         "Hettie",
         null,
         "Keenlayside",
         "jkeenlayside0@disqus.com",
         "child",
         "168-92-1075",
         "F",
         "Buddhism",
         "Widowed",
         "8/5/1939",
         null,
         "West Frisian",
         "Swahili",
         "Gabcube",
         "Clinical Specialist",
         "1/29/1964",
         "(455) 3130004",
         "Work",
         "Griffinhaven",
         "6/10/07",
         "046 Cox Lights",
         "Suite 600",
         "South Carolina",
         "Residental",
         "71709"
        ],
        [
         70002,
         40092,
         "Reade",
         null,
         "Laverenz",
         "dlaverenz1@senate.gov",
         "friend",
         "782-24-9907",
         "M",
         "Christianity",
         "Widowed",
         "5/14/1941",
         null,
         "Swati",
         "Danish",
         "Skibox",
         "Staff Scientist",
         "5/18/1958",
         "(994) 4561640",
         "Work",
         "North Heather",
         "12/1/22",
         "737 Banks Row",
         "Apt. 505",
         "Arkansas",
         "Residental",
         "2341"
        ],
        [
         70002,
         40092,
         "Reade",
         null,
         "Laverenz",
         "dlaverenz1@senate.gov",
         "friend",
         "782-24-9907",
         "M",
         "Christianity",
         "Widowed",
         "5/14/1941",
         null,
         "Swati",
         "Danish",
         "Skibox",
         "Staff Scientist",
         "5/18/1958",
         "(994) 4561640",
         "Work",
         "South Natalie",
         "9/15/19",
         "183 Dalton Viaduct",
         "Suite 844",
         "Oregon",
         "Mail",
         "77714"
        ],
        [
         70003,
         40233,
         "Minnnie",
         null,
         "Baack",
         "dbaack2@sina.com.cn",
         "spouse",
         "726-01-1271",
         "F",
         "Buddhism",
         "Married",
         "11/20/1982",
         null,
         "Swati",
         null,
         "Dabjam",
         "Paralegal",
         "6/10/2011",
         "(771) 6498755",
         "Work",
         "Churchbury",
         "3/9/07",
         "807 Jesus Mills Suite 598",
         "Suite 735",
         "Texas",
         "Mail",
         "97223"
        ]
       ],
       "datasetInfos": [],
       "dbfsResultPath": null,
       "isJsonSchema": true,
       "metadata": {
        "isDbfsCommandResult": false
       },
       "overflow": false,
       "plotOptions": {
        "customPlotOptions": {},
        "displayType": "table",
        "pivotAggregation": null,
        "pivotColumns": null,
        "xColumns": null,
        "yColumns": null
       },
       "removedWidgets": [],
       "schema": [
        {
         "metadata": "{}",
         "name": "source_id",
         "type": "\"long\""
        },
        {
         "metadata": "{}",
         "name": "subscriber_id",
         "type": "\"long\""
        },
        {
         "metadata": "{}",
         "name": "first_name",
         "type": "\"string\""
        },
        {
         "metadata": "{}",
         "name": "middle_name",
         "type": "\"string\""
        },
        {
         "metadata": "{}",
         "name": "last_name",
         "type": "\"string\""
        },
        {
         "metadata": "{}",
         "name": "email",
         "type": "\"string\""
        },
        {
         "metadata": "{}",
         "name": "relationship",
         "type": "\"string\""
        },
        {
         "metadata": "{}",
         "name": "ssn",
         "type": "\"string\""
        },
        {
         "metadata": "{}",
         "name": "gender",
         "type": "\"string\""
        },
        {
         "metadata": "{}",
         "name": "religion",
         "type": "\"string\""
        },
        {
         "metadata": "{}",
         "name": "marital_status",
         "type": "\"string\""
        },
        {
         "metadata": "{}",
         "name": "date_of_birth",
         "type": "\"string\""
        },
        {
         "metadata": "{}",
         "name": "deceased_date",
         "type": "\"string\""
        },
        {
         "metadata": "{}",
         "name": "spoken_language_1",
         "type": "\"string\""
        },
        {
         "metadata": "{}",
         "name": "spoken_language_2",
         "type": "\"string\""
        },
        {
         "metadata": "{}",
         "name": "company",
         "type": "\"string\""
        },
        {
         "metadata": "{}",
         "name": "job_role",
         "type": "\"string\""
        },
        {
         "metadata": "{}",
         "name": "job_hiredate",
         "type": "\"string\""
        },
        {
         "metadata": "{}",
         "name": "phone",
         "type": "\"string\""
        },
        {
         "metadata": "{}",
         "name": "usage_type",
         "type": "\"string\""
        },
        {
         "metadata": "{}",
         "name": "city",
         "type": "\"string\""
        },
        {
         "metadata": "{}",
         "name": "issued_date",
         "type": "\"string\""
        },
        {
         "metadata": "{}",
         "name": "address_line_1",
         "type": "\"string\""
        },
        {
         "metadata": "{}",
         "name": "address_line_2",
         "type": "\"string\""
        },
        {
         "metadata": "{}",
         "name": "state",
         "type": "\"string\""
        },
        {
         "metadata": "{}",
         "name": "address_type",
         "type": "\"string\""
        },
        {
         "metadata": "{}",
         "name": "zipcode",
         "type": "\"string\""
        }
       ],
       "type": "table"
      }
     },
     "output_type": "display_data"
    }
   ],
   "source": [
    "%sql\n",
    "select * from temp limit 5;"
   ]
  },
  {
   "cell_type": "code",
   "execution_count": 0,
   "metadata": {
    "application/vnd.databricks.v1+cell": {
     "cellMetadata": {
      "byteLimit": 2048000,
      "rowLimit": 10000
     },
     "inputWidgets": {},
     "nuid": "8f2c73a9-3e50-4ad2-b1fe-7c0ab0816eb1",
     "showTitle": false,
     "title": ""
    }
   },
   "outputs": [
    {
     "output_type": "display_data",
     "data": {
      "text/html": [
       "<style scoped>\n",
       "  .table-result-container {\n",
       "    max-height: 300px;\n",
       "    overflow: auto;\n",
       "  }\n",
       "  table, th, td {\n",
       "    border: 1px solid black;\n",
       "    border-collapse: collapse;\n",
       "  }\n",
       "  th, td {\n",
       "    padding: 5px;\n",
       "  }\n",
       "  th {\n",
       "    text-align: left;\n",
       "  }\n",
       "</style><div class='table-result-container'><table class='table-result'><thead style='background-color: white'><tr><th>num_affected_rows</th><th>num_inserted_rows</th></tr></thead><tbody></tbody></table></div>"
      ]
     },
     "metadata": {
      "application/vnd.databricks.v1+output": {
       "addedWidgets": {},
       "aggData": [],
       "aggError": "",
       "aggOverflow": false,
       "aggSchema": [],
       "aggSeriesLimitReached": false,
       "aggType": "",
       "arguments": {},
       "columnCustomDisplayInfos": {},
       "data": [],
       "datasetInfos": [],
       "dbfsResultPath": null,
       "isJsonSchema": true,
       "metadata": {
        "isDbfsCommandResult": false
       },
       "overflow": false,
       "plotOptions": {
        "customPlotOptions": {},
        "displayType": "table",
        "pivotAggregation": null,
        "pivotColumns": null,
        "xColumns": null,
        "yColumns": null
       },
       "removedWidgets": [],
       "schema": [
        {
         "metadata": "{}",
         "name": "num_affected_rows",
         "type": "\"long\""
        },
        {
         "metadata": "{}",
         "name": "num_inserted_rows",
         "type": "\"long\""
        }
       ],
       "type": "table"
      }
     },
     "output_type": "display_data"
    }
   ],
   "source": [
    "%sql\n",
    "create table target as (\n",
    "select \n",
    "source_id,\n",
    "subscriber_id,\n",
    "first_name,\n",
    "middle_name,\n",
    "last_name,\n",
    "CASE\n",
    "  WHEN gender = 'M' THEN 'Mr.'\n",
    "  WHEN gender = 'F' AND marital_status in ('Widowed','Married') THEN 'Mrs'\n",
    "  WHEN gender = 'F' AND marital_status = 'Unmarried' THEN 'Miss'\n",
    "END as prefix,\n",
    "CASE\n",
    "      WHEN first_name = middle_name AND relationship = 'child' THEN 'Jr.'\n",
    "        WHEN job_role LIKE '%Engineer%' THEN 'Er'\n",
    "        WHEN job_role LIKE '%Nurse%' THEN 'RN'\n",
    "        WHEN job_role LIKE '%Analyst%' THEN 'Analyst'\n",
    "        WHEN job_role LIKE '%Manager%' THEN 'Mgr'\n",
    "        WHEN job_role LIKE '%Administrator%' THEN 'Admin'\n",
    "        WHEN job_role LIKE '%Developer%' THEN 'Dev'\n",
    "        WHEN job_role LIKE '%Assistant%' THEN 'Asst'\n",
    "        WHEN job_role LIKE '%Technician%' THEN 'Tech'\n",
    "        WHEN job_role LIKE '%Account%' THEN 'Acct'\n",
    "        WHEN job_role LIKE '%Biostatistician%' THEN 'BioStat'\n",
    "        WHEN job_role LIKE '%Health Coach%' THEN 'HlthCoach'\n",
    "        WHEN job_role LIKE '%Designer%' THEN 'Designer'\n",
    "        WHEN job_role LIKE '%Statistician%' THEN 'Stat'\n",
    "        WHEN job_role LIKE '%Programmer%' THEN 'Prog'\n",
    "        WHEN job_role LIKE '%Coordinator%' THEN 'Coord'\n",
    "        WHEN job_role LIKE '%Automation Specialist%' THEN 'AutoSpec'\n",
    "        WHEN job_role LIKE '%VP%' THEN 'VP'\n",
    "        WHEN job_role LIKE '%Geologist%' THEN 'Geol'\n",
    "      ELSE null\n",
    "    end as suffix_name,\n",
    "concat(ifnull(first_name,\"\" ),\" \",ifnull(middle_name,\"\"),\" \",ifnull(last_name,\"\")) as name,\n",
    "'Nova Healthcare' as record_source,\n",
    "current_timestamp() as record_created_ts,\n",
    "\"True\" as is_verified,\n",
    "\n",
    "array_agg(distinct(usage_type,phone)) as phones,\n",
    "CASE\n",
    "     WHEN email LIKE '%@%.__%' THEN email\n",
    "     ELSE NULL\n",
    "     END as email,array_agg(struct((address_type,address_line_1,address_line_2,city,state,\n",
    "case when len(zipcode) > 5 then left(zipcode,5)\n",
    "     when len(zipcode) = 5 then zipcode end,\n",
    "case when len(zipcode) > 5 then right(zipcode,4)\n",
    "     when len(zipcode) = 4 then zipcode end))) as addresses,\n",
    "False as privacy_preference,\n",
    "ssn as national_id,\n",
    "gender,\n",
    "marital_status,\n",
    "to_date(date_of_birth,'m/d/yyyy') as date_of_birth,\n",
    "year(to_date(date_of_birth,'m/d/yyyy')) as year_of_birth,\n",
    "CASE\n",
    "    WHEN deceased_date is null then 'No' else 'Yes'\n",
    "END as deceased_ind,\n",
    "CASE WHEN deceased_date is not null THEN timestampdiff(year,to_date(deceased_date,'m/d/yyyy'),to_date(date_of_birth,'m/d/yyyy')) \n",
    "END as deceased_age,\n",
    "CASE\n",
    "      WHEN spoken_language_1 IS NOT null AND spoken_language_2 IS NOT null THEN ARRAY(spoken_language_1,spoken_language_2)\n",
    "      WHEN spoken_language_1 IS null AND spoken_language_2 IS NOT null THEN ARRAY(spoken_language_2)\n",
    "      WHEN spoken_language_1 IS NOT null AND spoken_language_2 IS null THEN ARRAY(spoken_language_1)\n",
    "      WHEN spoken_language_1 == spoken_language_2 THEN ARRAY(spoken_language_1)\n",
    "      ELSE null\n",
    "END AS languages,\n",
    "array(struct(company as employer_name,\n",
    "                  job_role as employee_role,\n",
    "                  case when deceased_date is not null then 'Inactive' else 'Active' end as employee_status,\n",
    "                  case when job_hiredate > date_of_birth then job_hiredate else null end as employee_hiredate)) as employment,\n",
    "map('relationship :',relationship,'religion :',religion) as additional_source_value\n",
    "\n",
    "from temp\n",
    "group by source_id,\n",
    "subscriber_id,\n",
    "first_name,\n",
    "middle_name,\n",
    "last_name,\n",
    "email,\n",
    "relationship,\n",
    "ssn,\n",
    "gender,\n",
    "religion,\n",
    "marital_status,\n",
    "date_of_birth,\n",
    "deceased_date,\n",
    "spoken_language_1,\n",
    "spoken_language_2,\n",
    "company,\n",
    "job_role,\n",
    "job_hiredate,\n",
    "phone,\n",
    "usage_type,\n",
    "city,\n",
    "issued_date,\n",
    "address_line_1,\n",
    "address_line_2,\n",
    "state,\n",
    "address_type,\n",
    "zipcode\n",
    ")\n",
    "\n",
    "\n"
   ]
  },
  {
   "cell_type": "code",
   "execution_count": 0,
   "metadata": {
    "application/vnd.databricks.v1+cell": {
     "cellMetadata": {
      "byteLimit": 2048000,
      "rowLimit": 10000
     },
     "inputWidgets": {},
     "nuid": "0eea715f-9cfa-41d3-bc36-ab75c922218b",
     "showTitle": false,
     "title": ""
    }
   },
   "outputs": [
    {
     "output_type": "display_data",
     "data": {
      "text/html": [
       "<style scoped>\n",
       "  .table-result-container {\n",
       "    max-height: 300px;\n",
       "    overflow: auto;\n",
       "  }\n",
       "  table, th, td {\n",
       "    border: 1px solid black;\n",
       "    border-collapse: collapse;\n",
       "  }\n",
       "  th, td {\n",
       "    padding: 5px;\n",
       "  }\n",
       "  th {\n",
       "    text-align: left;\n",
       "  }\n",
       "</style><div class='table-result-container'><table class='table-result'><thead style='background-color: white'><tr><th>source_id</th><th>subscriber_id</th><th>first_name</th><th>middle_name</th><th>last_name</th><th>prefix</th><th>suffix_name</th><th>name</th><th>record_source</th><th>record_created_ts</th><th>is_verified</th><th>phones</th><th>email</th><th>addresses</th><th>privacy_preference</th><th>national_id</th><th>gender</th><th>marital_status</th><th>date_of_birth</th><th>year_of_birth</th><th>deceased_ind</th><th>deceased_age</th><th>languages</th><th>employment</th><th>additional_source_value</th></tr></thead><tbody><tr><td>70001</td><td>40184</td><td>Hettie</td><td>null</td><td>Keenlayside</td><td>Mrs</td><td>null</td><td>Hettie  Keenlayside</td><td>Nova Healthcare</td><td>2024-02-02T14:18:48.921+0000</td><td>True</td><td>List(List(Work, (455) 3130004))</td><td>jkeenlayside0@disqus.com</td><td>List(List(List(Residental, 046 Cox Lights, Suite 600, Griffinhaven, South Carolina, 71709, null)))</td><td>false</td><td>168-92-1075</td><td>F</td><td>Widowed</td><td>1939-01-05</td><td>1939</td><td>No</td><td>null</td><td>List(West Frisian, Swahili)</td><td>List(List(Gabcube, Clinical Specialist, Active, null))</td><td>Map(relationship : -> child, religion : -> Buddhism)</td></tr><tr><td>70001</td><td>40184</td><td>Hettie</td><td>null</td><td>Keenlayside</td><td>Mrs</td><td>null</td><td>Hettie  Keenlayside</td><td>Nova Healthcare</td><td>2024-02-02T14:18:48.921+0000</td><td>True</td><td>List(List(Work, (455) 3130004))</td><td>jkeenlayside0@disqus.com</td><td>List(List(List(Mail, 4307 Ashley Village Suite 758, null, New Kyle, North Dakota, 87337, null)))</td><td>false</td><td>168-92-1075</td><td>F</td><td>Widowed</td><td>1939-01-05</td><td>1939</td><td>No</td><td>null</td><td>List(West Frisian, Swahili)</td><td>List(List(Gabcube, Clinical Specialist, Active, null))</td><td>Map(relationship : -> child, religion : -> Buddhism)</td></tr><tr><td>70002</td><td>40092</td><td>Reade</td><td>null</td><td>Laverenz</td><td>Mr.</td><td>null</td><td>Reade  Laverenz</td><td>Nova Healthcare</td><td>2024-02-02T14:18:48.921+0000</td><td>True</td><td>List(List(Work, (994) 4561640))</td><td>dlaverenz1@senate.gov</td><td>List(List(List(Residental, 737 Banks Row, Apt. 505, North Heather, Arkansas, null, 2341)))</td><td>false</td><td>782-24-9907</td><td>M</td><td>Widowed</td><td>1941-01-14</td><td>1941</td><td>No</td><td>null</td><td>List(Swati, Danish)</td><td>List(List(Skibox, Staff Scientist, Active, 5/18/1958))</td><td>Map(relationship : -> friend, religion : -> Christianity)</td></tr><tr><td>70002</td><td>40092</td><td>Reade</td><td>null</td><td>Laverenz</td><td>Mr.</td><td>null</td><td>Reade  Laverenz</td><td>Nova Healthcare</td><td>2024-02-02T14:18:48.921+0000</td><td>True</td><td>List(List(Work, (994) 4561640))</td><td>dlaverenz1@senate.gov</td><td>List(List(List(Mail, 183 Dalton Viaduct, Suite 844, South Natalie, Oregon, 77714, null)))</td><td>false</td><td>782-24-9907</td><td>M</td><td>Widowed</td><td>1941-01-14</td><td>1941</td><td>No</td><td>null</td><td>List(Swati, Danish)</td><td>List(List(Skibox, Staff Scientist, Active, 5/18/1958))</td><td>Map(relationship : -> friend, religion : -> Christianity)</td></tr><tr><td>70003</td><td>40233</td><td>Minnnie</td><td>null</td><td>Baack</td><td>Mrs</td><td>null</td><td>Minnnie  Baack</td><td>Nova Healthcare</td><td>2024-02-02T14:18:48.921+0000</td><td>True</td><td>List(List(Work, (771) 6498755))</td><td>dbaack2@sina.com.cn</td><td>List(List(List(Mail, 807 Jesus Mills Suite 598, Suite 735, Churchbury, Texas, 97223, null)))</td><td>false</td><td>726-01-1271</td><td>F</td><td>Married</td><td>1982-01-20</td><td>1982</td><td>No</td><td>null</td><td>List(Swati)</td><td>List(List(Dabjam, Paralegal, Active, 6/10/2011))</td><td>Map(relationship : -> spouse, religion : -> Buddhism)</td></tr></tbody></table></div>"
      ]
     },
     "metadata": {
      "application/vnd.databricks.v1+output": {
       "addedWidgets": {},
       "aggData": [],
       "aggError": "",
       "aggOverflow": false,
       "aggSchema": [],
       "aggSeriesLimitReached": false,
       "aggType": "",
       "arguments": {},
       "columnCustomDisplayInfos": {},
       "data": [
        [
         70001,
         40184,
         "Hettie",
         null,
         "Keenlayside",
         "Mrs",
         null,
         "Hettie  Keenlayside",
         "Nova Healthcare",
         "2024-02-02T14:18:48.921+0000",
         "True",
         [
          [
           "Work",
           "(455) 3130004"
          ]
         ],
         "jkeenlayside0@disqus.com",
         [
          [
           [
            "Residental",
            "046 Cox Lights",
            "Suite 600",
            "Griffinhaven",
            "South Carolina",
            "71709",
            null
           ]
          ]
         ],
         false,
         "168-92-1075",
         "F",
         "Widowed",
         "1939-01-05",
         1939,
         "No",
         null,
         [
          "West Frisian",
          "Swahili"
         ],
         [
          [
           "Gabcube",
           "Clinical Specialist",
           "Active",
           null
          ]
         ],
         {
          "relationship :": "child",
          "religion :": "Buddhism"
         }
        ],
        [
         70001,
         40184,
         "Hettie",
         null,
         "Keenlayside",
         "Mrs",
         null,
         "Hettie  Keenlayside",
         "Nova Healthcare",
         "2024-02-02T14:18:48.921+0000",
         "True",
         [
          [
           "Work",
           "(455) 3130004"
          ]
         ],
         "jkeenlayside0@disqus.com",
         [
          [
           [
            "Mail",
            "4307 Ashley Village Suite 758",
            null,
            "New Kyle",
            "North Dakota",
            "87337",
            null
           ]
          ]
         ],
         false,
         "168-92-1075",
         "F",
         "Widowed",
         "1939-01-05",
         1939,
         "No",
         null,
         [
          "West Frisian",
          "Swahili"
         ],
         [
          [
           "Gabcube",
           "Clinical Specialist",
           "Active",
           null
          ]
         ],
         {
          "relationship :": "child",
          "religion :": "Buddhism"
         }
        ],
        [
         70002,
         40092,
         "Reade",
         null,
         "Laverenz",
         "Mr.",
         null,
         "Reade  Laverenz",
         "Nova Healthcare",
         "2024-02-02T14:18:48.921+0000",
         "True",
         [
          [
           "Work",
           "(994) 4561640"
          ]
         ],
         "dlaverenz1@senate.gov",
         [
          [
           [
            "Residental",
            "737 Banks Row",
            "Apt. 505",
            "North Heather",
            "Arkansas",
            null,
            "2341"
           ]
          ]
         ],
         false,
         "782-24-9907",
         "M",
         "Widowed",
         "1941-01-14",
         1941,
         "No",
         null,
         [
          "Swati",
          "Danish"
         ],
         [
          [
           "Skibox",
           "Staff Scientist",
           "Active",
           "5/18/1958"
          ]
         ],
         {
          "relationship :": "friend",
          "religion :": "Christianity"
         }
        ],
        [
         70002,
         40092,
         "Reade",
         null,
         "Laverenz",
         "Mr.",
         null,
         "Reade  Laverenz",
         "Nova Healthcare",
         "2024-02-02T14:18:48.921+0000",
         "True",
         [
          [
           "Work",
           "(994) 4561640"
          ]
         ],
         "dlaverenz1@senate.gov",
         [
          [
           [
            "Mail",
            "183 Dalton Viaduct",
            "Suite 844",
            "South Natalie",
            "Oregon",
            "77714",
            null
           ]
          ]
         ],
         false,
         "782-24-9907",
         "M",
         "Widowed",
         "1941-01-14",
         1941,
         "No",
         null,
         [
          "Swati",
          "Danish"
         ],
         [
          [
           "Skibox",
           "Staff Scientist",
           "Active",
           "5/18/1958"
          ]
         ],
         {
          "relationship :": "friend",
          "religion :": "Christianity"
         }
        ],
        [
         70003,
         40233,
         "Minnnie",
         null,
         "Baack",
         "Mrs",
         null,
         "Minnnie  Baack",
         "Nova Healthcare",
         "2024-02-02T14:18:48.921+0000",
         "True",
         [
          [
           "Work",
           "(771) 6498755"
          ]
         ],
         "dbaack2@sina.com.cn",
         [
          [
           [
            "Mail",
            "807 Jesus Mills Suite 598",
            "Suite 735",
            "Churchbury",
            "Texas",
            "97223",
            null
           ]
          ]
         ],
         false,
         "726-01-1271",
         "F",
         "Married",
         "1982-01-20",
         1982,
         "No",
         null,
         [
          "Swati"
         ],
         [
          [
           "Dabjam",
           "Paralegal",
           "Active",
           "6/10/2011"
          ]
         ],
         {
          "relationship :": "spouse",
          "religion :": "Buddhism"
         }
        ]
       ],
       "datasetInfos": [],
       "dbfsResultPath": null,
       "isJsonSchema": true,
       "metadata": {
        "isDbfsCommandResult": false
       },
       "overflow": false,
       "plotOptions": {
        "customPlotOptions": {},
        "displayType": "table",
        "pivotAggregation": null,
        "pivotColumns": null,
        "xColumns": null,
        "yColumns": null
       },
       "removedWidgets": [],
       "schema": [
        {
         "metadata": "{}",
         "name": "source_id",
         "type": "\"long\""
        },
        {
         "metadata": "{}",
         "name": "subscriber_id",
         "type": "\"long\""
        },
        {
         "metadata": "{}",
         "name": "first_name",
         "type": "\"string\""
        },
        {
         "metadata": "{}",
         "name": "middle_name",
         "type": "\"string\""
        },
        {
         "metadata": "{}",
         "name": "last_name",
         "type": "\"string\""
        },
        {
         "metadata": "{}",
         "name": "prefix",
         "type": "\"string\""
        },
        {
         "metadata": "{}",
         "name": "suffix_name",
         "type": "\"string\""
        },
        {
         "metadata": "{}",
         "name": "name",
         "type": "\"string\""
        },
        {
         "metadata": "{}",
         "name": "record_source",
         "type": "\"string\""
        },
        {
         "metadata": "{}",
         "name": "record_created_ts",
         "type": "\"timestamp\""
        },
        {
         "metadata": "{}",
         "name": "is_verified",
         "type": "\"string\""
        },
        {
         "metadata": "{}",
         "name": "phones",
         "type": "{\"type\":\"array\",\"elementType\":{\"type\":\"struct\",\"fields\":[{\"name\":\"usage_type\",\"type\":\"string\",\"nullable\":true,\"metadata\":{}},{\"name\":\"phone\",\"type\":\"string\",\"nullable\":true,\"metadata\":{}}]},\"containsNull\":true}"
        },
        {
         "metadata": "{}",
         "name": "email",
         "type": "\"string\""
        },
        {
         "metadata": "{}",
         "name": "addresses",
         "type": "{\"type\":\"array\",\"elementType\":{\"type\":\"struct\",\"fields\":[{\"name\":\"col1\",\"type\":{\"type\":\"struct\",\"fields\":[{\"name\":\"address_type\",\"type\":\"string\",\"nullable\":true,\"metadata\":{}},{\"name\":\"address_line_1\",\"type\":\"string\",\"nullable\":true,\"metadata\":{}},{\"name\":\"address_line_2\",\"type\":\"string\",\"nullable\":true,\"metadata\":{}},{\"name\":\"city\",\"type\":\"string\",\"nullable\":true,\"metadata\":{}},{\"name\":\"state\",\"type\":\"string\",\"nullable\":true,\"metadata\":{}},{\"name\":\"col6\",\"type\":\"string\",\"nullable\":true,\"metadata\":{}},{\"name\":\"col7\",\"type\":\"string\",\"nullable\":true,\"metadata\":{}}]},\"nullable\":true,\"metadata\":{}}]},\"containsNull\":true}"
        },
        {
         "metadata": "{}",
         "name": "privacy_preference",
         "type": "\"boolean\""
        },
        {
         "metadata": "{}",
         "name": "national_id",
         "type": "\"string\""
        },
        {
         "metadata": "{}",
         "name": "gender",
         "type": "\"string\""
        },
        {
         "metadata": "{}",
         "name": "marital_status",
         "type": "\"string\""
        },
        {
         "metadata": "{}",
         "name": "date_of_birth",
         "type": "\"date\""
        },
        {
         "metadata": "{}",
         "name": "year_of_birth",
         "type": "\"integer\""
        },
        {
         "metadata": "{}",
         "name": "deceased_ind",
         "type": "\"string\""
        },
        {
         "metadata": "{}",
         "name": "deceased_age",
         "type": "\"long\""
        },
        {
         "metadata": "{}",
         "name": "languages",
         "type": "{\"type\":\"array\",\"elementType\":\"string\",\"containsNull\":true}"
        },
        {
         "metadata": "{}",
         "name": "employment",
         "type": "{\"type\":\"array\",\"elementType\":{\"type\":\"struct\",\"fields\":[{\"name\":\"employer_name\",\"type\":\"string\",\"nullable\":true,\"metadata\":{}},{\"name\":\"employee_role\",\"type\":\"string\",\"nullable\":true,\"metadata\":{}},{\"name\":\"employee_status\",\"type\":\"string\",\"nullable\":true,\"metadata\":{}},{\"name\":\"employee_hiredate\",\"type\":\"string\",\"nullable\":true,\"metadata\":{}}]},\"containsNull\":true}"
        },
        {
         "metadata": "{}",
         "name": "additional_source_value",
         "type": "{\"type\":\"map\",\"keyType\":\"string\",\"valueType\":\"string\",\"valueContainsNull\":true}"
        }
       ],
       "type": "table"
      }
     },
     "output_type": "display_data"
    }
   ],
   "source": [
    "%sql\n",
    "select * from target limit 5;"
   ]
  },
  {
   "cell_type": "code",
   "execution_count": 0,
   "metadata": {
    "application/vnd.databricks.v1+cell": {
     "cellMetadata": {},
     "inputWidgets": {},
     "nuid": "3942a9f8-7feb-4be2-8cbf-220f906cfe1c",
     "showTitle": false,
     "title": ""
    }
   },
   "outputs": [],
   "source": []
  },
  {
   "cell_type": "code",
   "execution_count": 0,
   "metadata": {
    "application/vnd.databricks.v1+cell": {
     "cellMetadata": {
      "byteLimit": 2048000,
      "rowLimit": 10000
     },
     "inputWidgets": {},
     "nuid": "72232d4d-7f1d-459a-8b0b-55ab039d48c2",
     "showTitle": false,
     "title": ""
    }
   },
   "outputs": [],
   "source": [
    "%sql\n",
    "z"
   ]
  }
 ],
 "metadata": {
  "application/vnd.databricks.v1+notebook": {
   "dashboards": [],
   "language": "python",
   "notebookMetadata": {
    "pythonIndentUnit": 4
   },
   "notebookName": "SQL_Project",
   "widgets": {}
  }
 },
 "nbformat": 4,
 "nbformat_minor": 0
}
